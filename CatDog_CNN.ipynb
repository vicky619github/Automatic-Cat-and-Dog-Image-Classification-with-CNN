{
 "cells": [
  {
   "cell_type": "code",
   "execution_count": 38,
   "metadata": {},
   "outputs": [],
   "source": [
    "import tensorflow as tf\n",
    "from keras.preprocessing.image import ImageDataGenerator"
   ]
  },
  {
   "cell_type": "markdown",
   "metadata": {},
   "source": [
    "# Data Preprocessing"
   ]
  },
  {
   "cell_type": "markdown",
   "metadata": {},
   "source": [
    "### Preprocessing the Training set"
   ]
  },
  {
   "cell_type": "code",
   "execution_count": 39,
   "metadata": {},
   "outputs": [
    {
     "name": "stdout",
     "output_type": "stream",
     "text": [
      "Found 8000 images belonging to 2 classes.\n"
     ]
    }
   ],
   "source": [
    "train_datagen = ImageDataGenerator(\n",
    "        rescale=1./255,\n",
    "        shear_range=0.2,\n",
    "        zoom_range=0.2,\n",
    "        horizontal_flip=True)\n",
    "\n",
    "'''''\n",
    "rescale : Feature Scaling --> In range (0,255) \n",
    "\n",
    "*** These 3 is used to perfom image augmentation to avoid overfitting *** \n",
    "shear_range : stretching and tilting the images\n",
    "zoom_range : Applies random zooming\n",
    "horizontal_flip : Randomly flips images horizontally\n",
    "'''''\n",
    "\n",
    "training_set = train_datagen.flow_from_directory(\n",
    "        r'C:\\Users\\vickj\\Documents\\Computer Vision_Sem2_Mtech\\01_Udemy_CNN\\Section 40 - Convolutional Neural Networks (CNN)\\dataset\\training_set', \n",
    "        target_size=(64, 64),  # all images will be resized to 150x150\n",
    "        batch_size=32,\n",
    "        class_mode='binary')  #its binary becatus we are predicting Cat or dog 2 classes\n"
   ]
  },
  {
   "cell_type": "markdown",
   "metadata": {},
   "source": [
    "### Preprocessing the Test set"
   ]
  },
  {
   "cell_type": "code",
   "execution_count": 40,
   "metadata": {},
   "outputs": [
    {
     "name": "stdout",
     "output_type": "stream",
     "text": [
      "Found 2000 images belonging to 2 classes.\n"
     ]
    }
   ],
   "source": [
    "test_datagen = ImageDataGenerator(rescale=1./255)  #apply feature scaling to the test set images\n",
    "test_set = test_datagen.flow_from_directory(\n",
    "        r'C:\\Users\\vickj\\Documents\\Computer Vision_Sem2_Mtech\\01_Udemy_CNN\\Section 40 - Convolutional Neural Networks (CNN)\\dataset\\test_set',\n",
    "        target_size=(64, 64),\n",
    "        batch_size=32,\n",
    "        class_mode='binary')"
   ]
  },
  {
   "cell_type": "markdown",
   "metadata": {},
   "source": [
    "# Building the CNN model"
   ]
  },
  {
   "cell_type": "markdown",
   "metadata": {},
   "source": [
    "### Initialising the CNN"
   ]
  },
  {
   "cell_type": "code",
   "execution_count": 41,
   "metadata": {},
   "outputs": [],
   "source": [
    "cnn = tf.keras.models.Sequential()"
   ]
  },
  {
   "cell_type": "markdown",
   "metadata": {},
   "source": [
    "### Step 1 - Convolution"
   ]
  },
  {
   "cell_type": "code",
   "execution_count": 42,
   "metadata": {},
   "outputs": [],
   "source": [
    "cnn.add(tf.keras.layers.Conv2D(filters=32, kernel_size=3, activation='relu', input_shape=[64, 64, 3]))\n",
    "\n",
    "#[64, 64, 3] --> because we have scaled the image to (64,64), 3 is given because its RGB Image"
   ]
  },
  {
   "cell_type": "markdown",
   "metadata": {},
   "source": [
    "### Step 2 - Pooling"
   ]
  },
  {
   "cell_type": "code",
   "execution_count": 43,
   "metadata": {},
   "outputs": [],
   "source": [
    "cnn.add(tf.keras.layers.MaxPool2D(pool_size=2, strides=2))"
   ]
  },
  {
   "cell_type": "markdown",
   "metadata": {},
   "source": [
    "## Adding a second convolutional layer "
   ]
  },
  {
   "cell_type": "code",
   "execution_count": 44,
   "metadata": {},
   "outputs": [],
   "source": [
    "cnn.add(tf.keras.layers.Conv2D(filters=32, kernel_size=3, activation='relu'))\n",
    "cnn.add(tf.keras.layers.MaxPool2D(pool_size=2, strides=2))"
   ]
  },
  {
   "cell_type": "markdown",
   "metadata": {},
   "source": [
    "### Step 3 - Flattening"
   ]
  },
  {
   "cell_type": "code",
   "execution_count": 45,
   "metadata": {},
   "outputs": [],
   "source": [
    "cnn.add(tf.keras.layers.Flatten())"
   ]
  },
  {
   "cell_type": "markdown",
   "metadata": {},
   "source": [
    "### Step 4 - Full Connection"
   ]
  },
  {
   "cell_type": "code",
   "execution_count": 46,
   "metadata": {},
   "outputs": [],
   "source": [
    "cnn.add(tf.keras.layers.Dense(units=128, activation='relu'))"
   ]
  },
  {
   "cell_type": "markdown",
   "metadata": {},
   "source": [
    "### Step 5 - Output Layer"
   ]
  },
  {
   "cell_type": "code",
   "execution_count": 47,
   "metadata": {},
   "outputs": [],
   "source": [
    "cnn.add(tf.keras.layers.Dense(units=1, activation='sigmoid'))\n",
    "\n",
    "# we use sigmoid since its a binary classification, If its multi-class classification we use softmax"
   ]
  },
  {
   "cell_type": "markdown",
   "metadata": {},
   "source": [
    "# Training the CNN"
   ]
  },
  {
   "cell_type": "code",
   "execution_count": 48,
   "metadata": {},
   "outputs": [],
   "source": [
    "cnn.compile(optimizer = 'adam', loss = 'binary_crossentropy', metrics = ['accuracy'])"
   ]
  },
  {
   "cell_type": "code",
   "execution_count": 49,
   "metadata": {},
   "outputs": [
    {
     "name": "stdout",
     "output_type": "stream",
     "text": [
      "Epoch 1/25\n",
      "250/250 [==============================] - 41s 161ms/step - loss: 0.6619 - accuracy: 0.5971 - val_loss: 0.6718 - val_accuracy: 0.5920\n",
      "Epoch 2/25\n",
      "250/250 [==============================] - 39s 157ms/step - loss: 0.6051 - accuracy: 0.6774 - val_loss: 0.6226 - val_accuracy: 0.6455\n",
      "Epoch 3/25\n",
      "250/250 [==============================] - 39s 157ms/step - loss: 0.5700 - accuracy: 0.7081 - val_loss: 0.5233 - val_accuracy: 0.7470\n",
      "Epoch 4/25\n",
      "250/250 [==============================] - 40s 158ms/step - loss: 0.5322 - accuracy: 0.7312 - val_loss: 0.5333 - val_accuracy: 0.7390\n",
      "Epoch 5/25\n",
      "250/250 [==============================] - 39s 156ms/step - loss: 0.5109 - accuracy: 0.7437 - val_loss: 0.5307 - val_accuracy: 0.7405\n",
      "Epoch 6/25\n",
      "250/250 [==============================] - 39s 156ms/step - loss: 0.4859 - accuracy: 0.7666 - val_loss: 0.5011 - val_accuracy: 0.7520\n",
      "Epoch 7/25\n",
      "250/250 [==============================] - 39s 157ms/step - loss: 0.4730 - accuracy: 0.7691 - val_loss: 0.5012 - val_accuracy: 0.7465\n",
      "Epoch 8/25\n",
      "250/250 [==============================] - 39s 156ms/step - loss: 0.4586 - accuracy: 0.7801 - val_loss: 0.4950 - val_accuracy: 0.7635\n",
      "Epoch 9/25\n",
      "250/250 [==============================] - 39s 156ms/step - loss: 0.4388 - accuracy: 0.7928 - val_loss: 0.4702 - val_accuracy: 0.7780\n",
      "Epoch 10/25\n",
      "250/250 [==============================] - 39s 156ms/step - loss: 0.4288 - accuracy: 0.8000 - val_loss: 0.4667 - val_accuracy: 0.7875\n",
      "Epoch 11/25\n",
      "250/250 [==============================] - 39s 156ms/step - loss: 0.4099 - accuracy: 0.8148 - val_loss: 0.4994 - val_accuracy: 0.7645\n",
      "Epoch 12/25\n",
      "250/250 [==============================] - 39s 157ms/step - loss: 0.4042 - accuracy: 0.8129 - val_loss: 0.4491 - val_accuracy: 0.7995\n",
      "Epoch 13/25\n",
      "250/250 [==============================] - 39s 157ms/step - loss: 0.3868 - accuracy: 0.8255 - val_loss: 0.4366 - val_accuracy: 0.8015\n",
      "Epoch 14/25\n",
      "250/250 [==============================] - 39s 156ms/step - loss: 0.3770 - accuracy: 0.8263 - val_loss: 0.4568 - val_accuracy: 0.7940\n",
      "Epoch 15/25\n",
      "250/250 [==============================] - 39s 158ms/step - loss: 0.3722 - accuracy: 0.8273 - val_loss: 0.4696 - val_accuracy: 0.7895\n",
      "Epoch 16/25\n",
      "250/250 [==============================] - 39s 156ms/step - loss: 0.3637 - accuracy: 0.8354 - val_loss: 0.4525 - val_accuracy: 0.7950\n",
      "Epoch 17/25\n",
      "250/250 [==============================] - 39s 156ms/step - loss: 0.3503 - accuracy: 0.8444 - val_loss: 0.4673 - val_accuracy: 0.8105\n",
      "Epoch 18/25\n",
      "250/250 [==============================] - 39s 156ms/step - loss: 0.3464 - accuracy: 0.8429 - val_loss: 0.4610 - val_accuracy: 0.8010\n",
      "Epoch 19/25\n",
      "250/250 [==============================] - 39s 157ms/step - loss: 0.3270 - accuracy: 0.8597 - val_loss: 0.5784 - val_accuracy: 0.7610\n",
      "Epoch 20/25\n",
      "250/250 [==============================] - 39s 157ms/step - loss: 0.3178 - accuracy: 0.8660 - val_loss: 0.4787 - val_accuracy: 0.8105\n",
      "Epoch 21/25\n",
      "250/250 [==============================] - 39s 156ms/step - loss: 0.3058 - accuracy: 0.8686 - val_loss: 0.4837 - val_accuracy: 0.8065\n",
      "Epoch 22/25\n",
      "250/250 [==============================] - 39s 157ms/step - loss: 0.3023 - accuracy: 0.8692 - val_loss: 0.4661 - val_accuracy: 0.7990\n",
      "Epoch 23/25\n",
      "250/250 [==============================] - 39s 157ms/step - loss: 0.2871 - accuracy: 0.8761 - val_loss: 0.4803 - val_accuracy: 0.8050\n",
      "Epoch 24/25\n",
      "250/250 [==============================] - 39s 157ms/step - loss: 0.2803 - accuracy: 0.8765 - val_loss: 0.4965 - val_accuracy: 0.7920\n",
      "Epoch 25/25\n",
      "250/250 [==============================] - 39s 156ms/step - loss: 0.2618 - accuracy: 0.8903 - val_loss: 0.5227 - val_accuracy: 0.7965\n"
     ]
    },
    {
     "data": {
      "text/plain": [
       "<keras.src.callbacks.History at 0x180f06b02d0>"
      ]
     },
     "execution_count": 49,
     "metadata": {},
     "output_type": "execute_result"
    }
   ],
   "source": [
    "cnn.fit(x = training_set, validation_data = test_set, epochs = 25)"
   ]
  },
  {
   "cell_type": "code",
   "execution_count": 50,
   "metadata": {},
   "outputs": [
    {
     "name": "stdout",
     "output_type": "stream",
     "text": [
      "1/1 [==============================] - 0s 171ms/step\n"
     ]
    }
   ],
   "source": [
    "import numpy as np\n",
    "from keras.preprocessing import image\n",
    "test_image = image.load_img('dataset/single_prediction/cat_or_dog_1.jpg', target_size = (64, 64))\n",
    "test_image = image.img_to_array(test_image)\n",
    "test_image = np.expand_dims(test_image, axis = 0)\n",
    "result = cnn.predict(test_image)\n",
    "training_set.class_indices\n",
    "if result[0][0] == 1:\n",
    "  prediction = 'dog'\n",
    "else:\n",
    "  prediction = 'cat'"
   ]
  },
  {
   "cell_type": "code",
   "execution_count": 52,
   "metadata": {},
   "outputs": [
    {
     "name": "stdout",
     "output_type": "stream",
     "text": [
      "dog\n"
     ]
    }
   ],
   "source": [
    "print(prediction)"
   ]
  },
  {
   "cell_type": "code",
   "execution_count": null,
   "metadata": {},
   "outputs": [],
   "source": []
  }
 ],
 "metadata": {
  "colab": {
   "collapsed_sections": [],
   "name": "convolutional_neural_network.ipynb",
   "provenance": [],
   "toc_visible": true
  },
  "kernelspec": {
   "display_name": "Python 3 (ipykernel)",
   "language": "python",
   "name": "python3"
  },
  "language_info": {
   "codemirror_mode": {
    "name": "ipython",
    "version": 3
   },
   "file_extension": ".py",
   "mimetype": "text/x-python",
   "name": "python",
   "nbconvert_exporter": "python",
   "pygments_lexer": "ipython3",
   "version": "3.11.5"
  }
 },
 "nbformat": 4,
 "nbformat_minor": 1
}
